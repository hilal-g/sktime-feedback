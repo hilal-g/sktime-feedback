{
 "cells": [
  {
   "cell_type": "code",
   "execution_count": 4,
   "id": "3a6fb872",
   "metadata": {},
   "outputs": [],
   "source": [
    "# https://www.sktime.org/en/latest/examples/loading_data.html"
   ]
  },
  {
   "cell_type": "markdown",
   "id": "e814f2ed",
   "metadata": {},
   "source": [
    "# Feedback"
   ]
  },
  {
   "cell_type": "markdown",
   "id": "5e195421",
   "metadata": {},
   "source": [
    "### Issue 1\n",
    "\n",
    "`A .ts file include two main parts: * header information * data`\n",
    "\n",
    "Possibly replace with: `A .ts file includes two main parts: 1) header information and 2) data`\n",
    "\n",
    "### Issue 2\n",
    "\n",
    "`An instance may contain 1 to many dimensions, where instances are line-delimited and dimensions within an instance are colon (:) delimited.`\n",
    "\n",
    "Possibly replace with:\n",
    "\n",
    "`An instance contains at least 1 dimension, where instances are line-delimited and dimensions within an instance are colon (:) delimited.`\n",
    "\n",
    "Question: what is the maximum number of dimensions?\n",
    "\n",
    "### Issue 3 \n",
    "\n",
    "The section \"Representing data with .ts files\" talks about the differences between a @timeStamps label of True and False. A possible update would be to add headings (i.e. @timeStamps=True and @timeStamps=False) with the relevant description for each condition below its respective heading. \n",
    "\n",
    "### Issue 4\n",
    "\n",
    "`Alternatively, for sparse datasets, readings can be specified by setting @timestamps to true in the header and representing the data with tuples in the form of (timestamp, value) just for the obser.`\n",
    "\n",
    "As I understand, `obser` refers to `observeration`. "
   ]
  },
  {
   "cell_type": "markdown",
   "id": "70f0b2da",
   "metadata": {},
   "source": [
    "# Implementation"
   ]
  }
 ],
 "metadata": {
  "kernelspec": {
   "display_name": "Python 3",
   "language": "python",
   "name": "python3"
  },
  "language_info": {
   "codemirror_mode": {
    "name": "ipython",
    "version": 3
   },
   "file_extension": ".py",
   "mimetype": "text/x-python",
   "name": "python",
   "nbconvert_exporter": "python",
   "pygments_lexer": "ipython3",
   "version": "3.8.8"
  }
 },
 "nbformat": 4,
 "nbformat_minor": 5
}
